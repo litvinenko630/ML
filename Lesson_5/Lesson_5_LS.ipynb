{
 "cells": [
  {
   "cell_type": "markdown",
   "id": "6ac6401f",
   "metadata": {},
   "source": [
    "### Урок 5"
   ]
  },
  {
   "cell_type": "markdown",
   "id": "bdd76229",
   "metadata": {},
   "source": [
    "### Домашнее задание"
   ]
  },
  {
   "cell_type": "markdown",
   "id": "2c187e98",
   "metadata": {},
   "source": [
    "1. Для нашего пайплайна (Case1) поэкспериментировать с разными моделями: 1 - бустинг, 2 - логистическая регрессия (не забудьте здесь добавить в cont_transformer стандартизацию - нормирование вещественных признаков)\n",
    "2. Отобрать лучшую модель по метрикам (кстати, какая по вашему мнению здесь наиболее подходящая DS-метрика)\n",
    "3. Для отобранной модели (на отложенной выборке) сделать оценку экономической эффективности при тех же вводных, как в вопросе 2 (1 доллар на привлечение, 2 доллара - с каждого правильно классифицированного (True Positive) удержанного). (подсказка) нужно посчитать FP/TP/FN/TN для выбранного оптимального порога вероятности и посчитать выручку и траты. \n",
    "4. (опционально) Провести подбор гиперпараметров лучшей модели по итогам 2-3\n",
    "5. (опционально) Еще раз провести оценку экономической эффективности"
   ]
  },
  {
   "cell_type": "markdown",
   "id": "56a96189",
   "metadata": {},
   "source": [
    "### Импорт необходимых библиотек"
   ]
  },
  {
   "cell_type": "code",
   "execution_count": 1,
   "id": "6ee8912e",
   "metadata": {},
   "outputs": [],
   "source": [
    "import pandas as pd  # Импортируем библиотеку pandas и сокращаем её до pd\n",
    "import numpy as np   # Импортируем библиотеку numpy и сокращаем её до np\n",
    "import seaborn as sns  # Импорт библиотеки Seaborn для визуализации данных\n",
    "# Импортируем функции для работы с пайплайнами\n",
    "from sklearn.pipeline import Pipeline, make_pipeline, FeatureUnion  \n",
    "# Импортируем базовые классы для создания собственных трансформаторов\n",
    "from sklearn.base import BaseEstimator, TransformerMixin    \n",
    "# Импортируем функции для разделения данных и кросс-валидации\n",
    "from sklearn.model_selection import train_test_split, cross_val_score  \n",
    "import itertools  # Импортируем библиотеку itertools для работы с итераторами\n",
    "\n",
    "\n",
    "# Импортируем необходимые метрики из библиотеки sklearn.metrics\n",
    "from sklearn.metrics import (\n",
    "    f1_score,            # F1-мера\n",
    "    roc_auc_score,       # Площадь под ROC-кривой\n",
    "    roc_curve,           # ROC-кривая\n",
    "    precision_score,     # Точность\n",
    "    classification_report,  # Отчёт о классификации\n",
    "    precision_recall_curve,  # Кривая точность-полнота\n",
    "    confusion_matrix       # Матрица ошибок\n",
    ")\n",
    "\n",
    "# Импортируем класс LogisticRegression для логистической регрессии\n",
    "from sklearn.linear_model import LogisticRegression\n",
    "from catboost import CatBoostClassifier  # Импорт класса CatBoostClassifier из библиотеки CatBoost\n",
    "from sklearn.ensemble import RandomForestClassifier  # Импорт класса RandomForestClassifier из scikit-learn\n",
    "from sklearn.ensemble import GradientBoostingClassifier  # Импорт класса GradientBoostingClassifier из scikit-learn\n",
    "\n",
    "from sklearn.preprocessing import StandardScaler  # Импорт класса StandardScaler из scikit-learn\n",
    "# Импортируем класс GridSearchCV для поиска оптимальных параметров модели\n",
    "from sklearn.model_selection import GridSearchCV \n",
    "\n",
    "import matplotlib.pyplot as plt  # Импортируем библиотеку matplotlib.pyplot для построения графиков\n",
    "\n",
    "# Магическая команда Jupyter Notebook для отображения графиков в ячейке кода\n",
    "%matplotlib inline  "
   ]
  },
  {
   "cell_type": "markdown",
   "id": "17dbe0b2",
   "metadata": {},
   "source": [
    "### 1. Для нашего пайплайна (Case1) поэкспериментировать с разными моделями: 1 - бустинг, 2 - логистическая регрессия (не забудьте здесь добавить в cont_transformer стандартизацию - нормирование вещественных признаков)\n",
    "\n"
   ]
  },
  {
   "cell_type": "code",
   "execution_count": 2,
   "id": "0573190a",
   "metadata": {},
   "outputs": [
    {
     "name": "stdout",
     "output_type": "stream",
     "text": [
      "--2023-11-09 22:10:05--  https://drive.google.com/uc?export=download&id=1yIIxDfW7Wfq-wPlbsa0dFrSlD3r-Ai91\n",
      "Resolving drive.google.com (drive.google.com)... 142.250.74.142\n",
      "Connecting to drive.google.com (drive.google.com)|142.250.74.142|:443... connected.\n",
      "HTTP request sent, awaiting response... 303 See Other\n",
      "Location: https://doc-14-c0-docs.googleusercontent.com/docs/securesc/ha0ro937gcuc7l7deffksulhg5h7mbp1/rh70bo2ml92fcpcodn7v32r14tvpm2rc/1699557000000/14904333240138417226/*/1yIIxDfW7Wfq-wPlbsa0dFrSlD3r-Ai91?e=download&uuid=7fd43784-6844-4d6c-af5b-5bebf42a64c3 [following]\n",
      "Warning: wildcards not supported in HTTP.\n",
      "--2023-11-09 22:10:06--  https://doc-14-c0-docs.googleusercontent.com/docs/securesc/ha0ro937gcuc7l7deffksulhg5h7mbp1/rh70bo2ml92fcpcodn7v32r14tvpm2rc/1699557000000/14904333240138417226/*/1yIIxDfW7Wfq-wPlbsa0dFrSlD3r-Ai91?e=download&uuid=7fd43784-6844-4d6c-af5b-5bebf42a64c3\n",
      "Resolving doc-14-c0-docs.googleusercontent.com (doc-14-c0-docs.googleusercontent.com)... 142.250.74.129\n",
      "Connecting to doc-14-c0-docs.googleusercontent.com (doc-14-c0-docs.googleusercontent.com)|142.250.74.129|:443... connected.\n",
      "HTTP request sent, awaiting response... 200 OK\n",
      "Length: 674856 (659K) [text/csv]\n",
      "Saving to: ‘./data/churn_data.csv’\n",
      "\n",
      "./data/churn_data.c 100%[===================>] 659.04K  2.03MB/s    in 0.3s    \n",
      "\n",
      "2023-11-09 22:10:07 (2.03 MB/s) - ‘./data/churn_data.csv’ saved [674856/674856]\n",
      "\n"
     ]
    }
   ],
   "source": [
    "!wget 'https://drive.google.com/uc?export=download&id=1yIIxDfW7Wfq-wPlbsa0dFrSlD3r-Ai91' -O ./data/churn_data.csv"
   ]
  },
  {
   "cell_type": "code",
   "execution_count": 3,
   "id": "69161627",
   "metadata": {},
   "outputs": [
    {
     "data": {
      "text/html": [
       "<div>\n",
       "<style scoped>\n",
       "    .dataframe tbody tr th:only-of-type {\n",
       "        vertical-align: middle;\n",
       "    }\n",
       "\n",
       "    .dataframe tbody tr th {\n",
       "        vertical-align: top;\n",
       "    }\n",
       "\n",
       "    .dataframe thead th {\n",
       "        text-align: right;\n",
       "    }\n",
       "</style>\n",
       "<table border=\"1\" class=\"dataframe\">\n",
       "  <thead>\n",
       "    <tr style=\"text-align: right;\">\n",
       "      <th></th>\n",
       "      <th>RowNumber</th>\n",
       "      <th>CustomerId</th>\n",
       "      <th>Surname</th>\n",
       "      <th>CreditScore</th>\n",
       "      <th>Geography</th>\n",
       "      <th>Gender</th>\n",
       "      <th>Age</th>\n",
       "      <th>Tenure</th>\n",
       "      <th>Balance</th>\n",
       "      <th>NumOfProducts</th>\n",
       "      <th>HasCrCard</th>\n",
       "      <th>IsActiveMember</th>\n",
       "      <th>EstimatedSalary</th>\n",
       "      <th>Exited</th>\n",
       "    </tr>\n",
       "  </thead>\n",
       "  <tbody>\n",
       "    <tr>\n",
       "      <th>0</th>\n",
       "      <td>1</td>\n",
       "      <td>15634602</td>\n",
       "      <td>Hargrave</td>\n",
       "      <td>619</td>\n",
       "      <td>France</td>\n",
       "      <td>Female</td>\n",
       "      <td>42</td>\n",
       "      <td>2</td>\n",
       "      <td>0.00</td>\n",
       "      <td>1</td>\n",
       "      <td>1</td>\n",
       "      <td>1</td>\n",
       "      <td>101348.88</td>\n",
       "      <td>1</td>\n",
       "    </tr>\n",
       "    <tr>\n",
       "      <th>1</th>\n",
       "      <td>2</td>\n",
       "      <td>15647311</td>\n",
       "      <td>Hill</td>\n",
       "      <td>608</td>\n",
       "      <td>Spain</td>\n",
       "      <td>Female</td>\n",
       "      <td>41</td>\n",
       "      <td>1</td>\n",
       "      <td>83807.86</td>\n",
       "      <td>1</td>\n",
       "      <td>0</td>\n",
       "      <td>1</td>\n",
       "      <td>112542.58</td>\n",
       "      <td>0</td>\n",
       "    </tr>\n",
       "    <tr>\n",
       "      <th>2</th>\n",
       "      <td>3</td>\n",
       "      <td>15619304</td>\n",
       "      <td>Onio</td>\n",
       "      <td>502</td>\n",
       "      <td>France</td>\n",
       "      <td>Female</td>\n",
       "      <td>42</td>\n",
       "      <td>8</td>\n",
       "      <td>159660.80</td>\n",
       "      <td>3</td>\n",
       "      <td>1</td>\n",
       "      <td>0</td>\n",
       "      <td>113931.57</td>\n",
       "      <td>1</td>\n",
       "    </tr>\n",
       "    <tr>\n",
       "      <th>3</th>\n",
       "      <td>4</td>\n",
       "      <td>15701354</td>\n",
       "      <td>Boni</td>\n",
       "      <td>699</td>\n",
       "      <td>France</td>\n",
       "      <td>Female</td>\n",
       "      <td>39</td>\n",
       "      <td>1</td>\n",
       "      <td>0.00</td>\n",
       "      <td>2</td>\n",
       "      <td>0</td>\n",
       "      <td>0</td>\n",
       "      <td>93826.63</td>\n",
       "      <td>0</td>\n",
       "    </tr>\n",
       "    <tr>\n",
       "      <th>4</th>\n",
       "      <td>5</td>\n",
       "      <td>15737888</td>\n",
       "      <td>Mitchell</td>\n",
       "      <td>850</td>\n",
       "      <td>Spain</td>\n",
       "      <td>Female</td>\n",
       "      <td>43</td>\n",
       "      <td>2</td>\n",
       "      <td>125510.82</td>\n",
       "      <td>1</td>\n",
       "      <td>1</td>\n",
       "      <td>1</td>\n",
       "      <td>79084.10</td>\n",
       "      <td>0</td>\n",
       "    </tr>\n",
       "  </tbody>\n",
       "</table>\n",
       "</div>"
      ],
      "text/plain": [
       "   RowNumber  CustomerId   Surname  CreditScore Geography  Gender  Age  \\\n",
       "0          1    15634602  Hargrave          619    France  Female   42   \n",
       "1          2    15647311      Hill          608     Spain  Female   41   \n",
       "2          3    15619304      Onio          502    France  Female   42   \n",
       "3          4    15701354      Boni          699    France  Female   39   \n",
       "4          5    15737888  Mitchell          850     Spain  Female   43   \n",
       "\n",
       "   Tenure    Balance  NumOfProducts  HasCrCard  IsActiveMember  \\\n",
       "0       2       0.00              1          1               1   \n",
       "1       1   83807.86              1          0               1   \n",
       "2       8  159660.80              3          1               0   \n",
       "3       1       0.00              2          0               0   \n",
       "4       2  125510.82              1          1               1   \n",
       "\n",
       "   EstimatedSalary  Exited  \n",
       "0        101348.88       1  \n",
       "1        112542.58       0  \n",
       "2        113931.57       1  \n",
       "3         93826.63       0  \n",
       "4         79084.10       0  "
      ]
     },
     "execution_count": 3,
     "metadata": {},
     "output_type": "execute_result"
    }
   ],
   "source": [
    "# Считываем данные из файла 'churn_data.csv' и сохраняем в переменную df\n",
    "df = pd.read_csv('./data/churn_data.csv')\n",
    "\n",
    "# Выводим первые пять строк данных\n",
    "df.head()\n"
   ]
  },
  {
   "cell_type": "code",
   "execution_count": 4,
   "id": "9f6d5edb",
   "metadata": {},
   "outputs": [],
   "source": [
    "#разделим данные на train/test\n",
    "X_train, X_test, y_train, y_test = train_test_split(df, df['Exited'], random_state=0)"
   ]
  },
  {
   "cell_type": "code",
   "execution_count": 5,
   "id": "11f5f8f6",
   "metadata": {},
   "outputs": [],
   "source": [
    "# Класс FeatureSelector предназначен для выбора указанного столбца из DataFrame\n",
    "class FeatureSelector(BaseEstimator, TransformerMixin):\n",
    "    def __init__(self, column):\n",
    "        self.column = column\n",
    "\n",
    "    def fit(self, X, y=None):\n",
    "        return self\n",
    "\n",
    "    def transform(self, X, y=None):\n",
    "        return X[self.column]\n",
    "\n",
    "# Класс NumberSelector предназначен для выбора одного числового столбца из DataFrame\n",
    "class NumberSelector(BaseEstimator, TransformerMixin):\n",
    "    def __init__(self, key):\n",
    "        self.key = key\n",
    "\n",
    "    def fit(self, X, y=None):\n",
    "        return self\n",
    "\n",
    "    def transform(self, X):\n",
    "        return X[[self.key]]\n",
    "\n",
    "# Класс OHEEncoder предназначен для выполнения one-hot encoding на указанном столбце DataFrame\n",
    "class OHEEncoder(BaseEstimator, TransformerMixin):\n",
    "    def __init__(self, key):\n",
    "        self.key = key\n",
    "        self.columns = []\n",
    "\n",
    "    def fit(self, X, y=None):\n",
    "        self.columns = [col for col in pd.get_dummies(X, prefix=self.key).columns]\n",
    "        return self\n",
    "\n",
    "    def transform(self, X):\n",
    "        X = pd.get_dummies(X, prefix=self.key)\n",
    "        test_columns = [col for col in X.columns]\n",
    "        for col_ in self.columns:\n",
    "            if col_ not in test_columns:\n",
    "                X[col_] = 0\n",
    "        return X[self.columns]\n"
   ]
  },
  {
   "cell_type": "code",
   "execution_count": 6,
   "id": "de646120",
   "metadata": {},
   "outputs": [
    {
     "name": "stdout",
     "output_type": "stream",
     "text": [
      "Continuous columns: ['CreditScore', 'Age', 'Tenure', 'Balance', 'NumOfProducts', 'EstimatedSalary']\n",
      "Base columns: ['HasCrCard', 'IsActiveMember']\n",
      "Categorical columns: ['Geography', 'Gender']\n"
     ]
    }
   ],
   "source": [
    "# Создаем копию DataFrame df под именем df_main\n",
    "df_main = df.copy()\n",
    "\n",
    "# Выбираем числовые (включая float и int) столбцы из df_main, исключая неинформативные столбцы\n",
    "df_main_columns = df_main.drop(columns=['RowNumber', 'CustomerId', 'Surname', \\\n",
    "                                        'Exited']).select_dtypes(include=['float', int])\n",
    "\n",
    "# Определяем столбцы, содержащие только два уникальных значения\n",
    "base_columns = [col for col in df_main_columns.columns if df_main_columns[col].nunique() == 2]\n",
    "\n",
    "# Определяем столбцы, содержащие более двух уникальных значений\n",
    "continuous_columns = [col for col in df_main_columns.columns if df_main_columns[col].nunique() > 2]\n",
    "\n",
    "# Определяем категориальные столбцы\n",
    "categorical_columns = df_main.drop(columns=['RowNumber', 'CustomerId', 'Surname', \\\n",
    "                                            'Exited']).select_dtypes(exclude=['float', int]).columns.to_list()\n",
    "\n",
    "# Выводим результаты\n",
    "print(\"Continuous columns:\", continuous_columns)\n",
    "print(\"Base columns:\", base_columns)\n",
    "print(\"Categorical columns:\", categorical_columns)"
   ]
  },
  {
   "cell_type": "code",
   "execution_count": 7,
   "id": "f10bc3bc",
   "metadata": {},
   "outputs": [],
   "source": [
    "# Создаем пустой список final_transformers для хранения трансформаторов\n",
    "final_transformers = []\n",
    "\n",
    "# Для каждого категориального столбца создаем трансформатор, который включает в себя FeatureSelector и OHEEncoder\n",
    "for cat_col in categorical_columns:\n",
    "    cat_transformer = Pipeline([\n",
    "        ('selector', FeatureSelector(column=cat_col)),  # Выбор указанного столбца\n",
    "        ('ohe', OHEEncoder(key=cat_col))  # Применение one-hot encoding\n",
    "    ])\n",
    "    final_transformers.append((cat_col, cat_transformer))\n",
    "\n",
    "# Для каждого непрерывного столбца создаем трансформатор, который включает в себя NumberSelector и StandardScaler\n",
    "for cont_col in continuous_columns:\n",
    "    cont_transformer = Pipeline([\n",
    "        ('selector', NumberSelector(key=cont_col)),  # Выбор указанного числового столбца\n",
    "        ('standard', StandardScaler())  # Стандартизация значений\n",
    "    ])\n",
    "    final_transformers.append((cont_col, cont_transformer))\n",
    "\n",
    "# Для каждого бинарного столбца создаем трансформатор, который включает в себя NumberSelector\n",
    "for base_col in base_columns:\n",
    "    base_transformer = Pipeline([\n",
    "        ('selector', NumberSelector(key=base_col))  # Выбор указанного бинарного столбца\n",
    "    ])\n",
    "    final_transformers.append((base_col, base_transformer))  # Добавление трансформатора в список\n",
    "    "
   ]
  },
  {
   "cell_type": "code",
   "execution_count": 8,
   "id": "8c056548",
   "metadata": {},
   "outputs": [],
   "source": [
    "# Создаем объединение трансформаторов feats с использованием final_transformers\n",
    "feats = FeatureUnion(final_transformers)\n",
    "\n",
    "# Создаем пайплайн feature_processing, который включает в себя объединение трансформаторов feats\n",
    "feature_processing = Pipeline([('feats', feats)])\n"
   ]
  },
  {
   "cell_type": "code",
   "execution_count": 9,
   "id": "2475cf3f",
   "metadata": {},
   "outputs": [],
   "source": [
    "# Создаем словарь models, в котором ключами являются названия моделей, а значениями - соответствующие модели\n",
    "models = {\n",
    "    'LogisticRegression': LogisticRegression(random_state=42),  # Логистическая регрессия\n",
    "    'CatBoostClassifier': CatBoostClassifier(n_estimators=900, \n",
    "                                             max_depth=6, \n",
    "                                             learning_rate=0.03, \n",
    "                                             l2_leaf_reg=20,\n",
    "                                             silent=True, \n",
    "                                             random_state=42),  # CatBoost\n",
    "    'RandomForestClassifier': RandomForestClassifier(random_state=42),  # Случайный лес\n",
    "    'GradientBoostingClassifier': GradientBoostingClassifier(random_state=42)  # Градиентный бустинг\n",
    "}"
   ]
  },
  {
   "cell_type": "code",
   "execution_count": 10,
   "id": "e89947fd",
   "metadata": {},
   "outputs": [
    {
     "name": "stdout",
     "output_type": "stream",
     "text": [
      "CV score for LogisticRegression is 0.7634095441676239+-0.017895451873259523\n",
      "CV score for CatBoostClassifier is 0.8629037669005041+-0.013249052528822733\n",
      "CV score for RandomForestClassifier is 0.8512016979715392+-0.013486647064396907\n",
      "CV score for GradientBoostingClassifier is 0.8647771924158683+-0.011936496093841672\n",
      "\n",
      "Наилучшую производительность показал алгоритм GradientBoostingClassifier\n"
     ]
    }
   ],
   "source": [
    "best_score = 0  # Инициализируем переменную для хранения лучшего значения метрики\n",
    "best_model = None  # Инициализируем переменную для хранения лучшей модели\n",
    "\n",
    "# Проходим по каждой модели и её имени в словаре models\n",
    "for modelname, model in models.items():\n",
    "    # Создаем пайплайн, который включает в себя трансформаторы feats и текущую модель\n",
    "    pipeline = Pipeline([\n",
    "        ('features', feats),\n",
    "        (modelname, model)\n",
    "    ])\n",
    "    \n",
    "    # Запуск кросс-валидации и оценка ROC AUC для текущей модели.\n",
    "    cv_scores = cross_val_score(pipeline, X_train, y_train, cv=7, scoring='roc_auc')\n",
    "    cv_score = np.mean(cv_scores)\n",
    "    cv_score_std = np.std(cv_scores)\n",
    "    print(f'CV score for {modelname} is {cv_score}+-{cv_score_std}')\n",
    "\n",
    "    # Сравнение текущего показателя с лучшим показателем и обновление лучшего показателя и модели при необходимости\n",
    "    if cv_score > best_score:\n",
    "        best_score = cv_score\n",
    "        best_model = model\n",
    "        \n",
    "# Создание пайплайна с лучшей моделью.\n",
    "classifier = Pipeline([\n",
    "    ('features', feats),\n",
    "    ('classifier', best_model)\n",
    "])\n",
    "\n",
    "# Обучение пайплайна на всем тренировочном датасете с использованием лучшей модели.\n",
    "classifier.fit(X_train, y_train)\n",
    "\n",
    "# Прогнозирование вероятностей и вывод информации о наилучшей производительности модели.\n",
    "preds = classifier.predict_proba(X_test)[:, 1]\n",
    "print(f'\\nНаилучшую производительность показал алгоритм {type(best_model).__name__}')"
   ]
  },
  {
   "cell_type": "markdown",
   "id": "2b9fe498",
   "metadata": {},
   "source": [
    "### 2. Отобрать лучшую модель по метрикам (кстати, какая по вашему мнению здесь наиболее подходящая DS-метрика)"
   ]
  },
  {
   "cell_type": "markdown",
   "id": "e1a0f2da",
   "metadata": {},
   "source": [
    "- После внимательного анализа результатов, для бинарной классификации была принята решающая модель CatBoostClassifier. Высокий уровень ROC-AUC (0.8778) свидетельствует о хорошей способности модели различать классы. Этот выбор подкреплен решением использовать ROC-AUC в качестве основной метрики, учитывая ее устойчивость к дисбалансу классов и способность оценить как чувствительность, так и специфичность модели в контексте данной задачи."
   ]
  },
  {
   "cell_type": "code",
   "execution_count": 11,
   "id": "776a301f",
   "metadata": {},
   "outputs": [],
   "source": [
    "# Создаем словарь models, в котором ключами являются названия моделей, а значениями - соответствующие модели\n",
    "models = {\n",
    "    'LogisticRegression': LogisticRegression(random_state=42),  # Логистическая регрессия\n",
    "    'CatBoostClassifier': CatBoostClassifier(n_estimators=700, \n",
    "                                             max_depth=8, \n",
    "                                             learning_rate=0.03, \n",
    "                                             l2_leaf_reg=40,\n",
    "                                             silent=True, \n",
    "                                             random_state=42),  # CatBoost\n",
    "    'RandomForestClassifier': RandomForestClassifier(random_state=42),  # Случайный лес\n",
    "    'GradientBoostingClassifier': GradientBoostingClassifier(random_state=42)  # Градиентный бустинг\n",
    "}"
   ]
  },
  {
   "cell_type": "code",
   "execution_count": 12,
   "id": "e1996537",
   "metadata": {},
   "outputs": [],
   "source": [
    "# Создаем словарь models_metrics для хранения метрик производительности моделей\n",
    "models_metrics = {\n",
    "    'model': [],  # Имя модели\n",
    "    'best_threshold': [],  # Лучший порог для бинаризации предсказаний\n",
    "    'f-score': [],  # F-мера\n",
    "    'precision': [],  # Точность\n",
    "    'recall': [],  # Полнота (recall)\n",
    "    'roc-auc': [],  # Площадь под ROC-кривой\n",
    "    'true_positive_rate': [],  # True Positive Rate (чувствительность)\n",
    "    'false_positive_rate': [],  # False Positive Rate (специфичность)\n",
    "    'true_negative_rate': []  # True Negative Rate\n",
    "}\n"
   ]
  },
  {
   "cell_type": "code",
   "execution_count": 13,
   "id": "fcb5d334",
   "metadata": {},
   "outputs": [],
   "source": [
    "def get_metrics(probs, model):\n",
    "    precision, recall, thresholds = precision_recall_curve(y_test, probs)\n",
    "\n",
    "    fscore = (2 * precision * recall) / (precision + recall)\n",
    "    # locate the index of the largest f score\n",
    "    ix = np.argmax(fscore)\n",
    "    cnf_matrix = confusion_matrix(y_test, preds>thresholds[ix])\n",
    "    # Извлечение значений из матрицы ошибок\n",
    "    TN = cnf_matrix[0][0]  # True Negative\n",
    "    FN = cnf_matrix[1][0]  # False Negative\n",
    "    TP = cnf_matrix[1][1]  # True Positive\n",
    "    FP = cnf_matrix[0][1]  # False Positive\n",
    "\n",
    "    # Вычисление True Positive Rate (TPR) или чувствительности\n",
    "    TPR = TP / (TP + FN)\n",
    "\n",
    "    # Вычисление False Positive Rate (FPR) или вероятности ложного срабатывания\n",
    "    FPR = FP / (FP + TN)\n",
    "\n",
    "    # Вычисление True Negative Rate (TNR) или специфичности\n",
    "    TNR = TN / (FP + TN)\n",
    "    return model, thresholds[ix], fscore[ix], precision[ix], \\\n",
    "            recall[ix], roc_auc_score(y_test, probs), \\\n",
    "            TPR, FPR, TNR   "
   ]
  },
  {
   "cell_type": "code",
   "execution_count": 14,
   "id": "261dc660",
   "metadata": {},
   "outputs": [],
   "source": [
    "# Проходим по каждой модели и её имени в словаре models\n",
    "for modelname, model in models.items():\n",
    "    # Создаем пайплайн, который включает в себя трансформаторы feats и текущую модель\n",
    "    classifier_pipeline = Pipeline([\n",
    "        ('features', feats),\n",
    "        ('classifier', model)\n",
    "    ])\n",
    "    \n",
    "    # Обучаем пайплайн на всем тренировочном датасете с использованием лучшей модели\n",
    "    classifier_pipeline.fit(X_train, y_train)\n",
    "    \n",
    "    # Прогнозируем вероятности на тестовом датасете\n",
    "    preds = classifier_pipeline.predict_proba(X_test)[:, 1]\n",
    "    \n",
    "    # Вычисляем метрики производительности модели с использованием функции get_metrics\n",
    "    for key_value, metric in zip(models_metrics.keys(), get_metrics(preds, modelname)):\n",
    "        if isinstance(metric, (int, float)):\n",
    "            # Если метрика числовая, округляем её до 4 знаков после запятой и добавляем в словарь\n",
    "            metric = f'{metric:.4f}'\n",
    "            if metric not in models_metrics.get(key_value):\n",
    "                models_metrics[key_value].append(float(metric))\n",
    "            else:\n",
    "                pass\n",
    "        else:\n",
    "            # Если метрика не числовая, добавляем в словарь\n",
    "            if metric not in models_metrics.get(key_value):\n",
    "                models_metrics[key_value].append(metric)\n",
    "            else:\n",
    "                pass\n"
   ]
  },
  {
   "cell_type": "code",
   "execution_count": 15,
   "id": "e60bf369",
   "metadata": {},
   "outputs": [
    {
     "data": {
      "text/html": [
       "<div>\n",
       "<style scoped>\n",
       "    .dataframe tbody tr th:only-of-type {\n",
       "        vertical-align: middle;\n",
       "    }\n",
       "\n",
       "    .dataframe tbody tr th {\n",
       "        vertical-align: top;\n",
       "    }\n",
       "\n",
       "    .dataframe thead th {\n",
       "        text-align: right;\n",
       "    }\n",
       "</style>\n",
       "<table border=\"1\" class=\"dataframe\">\n",
       "  <thead>\n",
       "    <tr style=\"text-align: right;\">\n",
       "      <th></th>\n",
       "      <th>model</th>\n",
       "      <th>best_threshold</th>\n",
       "      <th>f-score</th>\n",
       "      <th>precision</th>\n",
       "      <th>recall</th>\n",
       "      <th>roc-auc</th>\n",
       "      <th>true_positive_rate</th>\n",
       "      <th>false_positive_rate</th>\n",
       "      <th>true_negative_rate</th>\n",
       "    </tr>\n",
       "  </thead>\n",
       "  <tbody>\n",
       "    <tr>\n",
       "      <th>0</th>\n",
       "      <td>LogisticRegression</td>\n",
       "      <td>0.2545</td>\n",
       "      <td>0.5055</td>\n",
       "      <td>0.4227</td>\n",
       "      <td>0.6287</td>\n",
       "      <td>0.7720</td>\n",
       "      <td>0.6267</td>\n",
       "      <td>0.2195</td>\n",
       "      <td>0.7805</td>\n",
       "    </tr>\n",
       "    <tr>\n",
       "      <th>1</th>\n",
       "      <td>CatBoostClassifier</td>\n",
       "      <td>0.3609</td>\n",
       "      <td>0.6583</td>\n",
       "      <td>0.6507</td>\n",
       "      <td>0.6660</td>\n",
       "      <td>0.8778</td>\n",
       "      <td>0.6640</td>\n",
       "      <td>0.0914</td>\n",
       "      <td>0.9086</td>\n",
       "    </tr>\n",
       "    <tr>\n",
       "      <th>2</th>\n",
       "      <td>RandomForestClassifier</td>\n",
       "      <td>0.4000</td>\n",
       "      <td>0.6464</td>\n",
       "      <td>0.6674</td>\n",
       "      <td>0.6267</td>\n",
       "      <td>0.8622</td>\n",
       "      <td>0.6208</td>\n",
       "      <td>0.0773</td>\n",
       "      <td>0.9227</td>\n",
       "    </tr>\n",
       "    <tr>\n",
       "      <th>3</th>\n",
       "      <td>GradientBoostingClassifier</td>\n",
       "      <td>0.3300</td>\n",
       "      <td>0.6455</td>\n",
       "      <td>0.6316</td>\n",
       "      <td>0.6601</td>\n",
       "      <td>0.8751</td>\n",
       "      <td>0.6582</td>\n",
       "      <td>0.0984</td>\n",
       "      <td>0.9016</td>\n",
       "    </tr>\n",
       "  </tbody>\n",
       "</table>\n",
       "</div>"
      ],
      "text/plain": [
       "                        model  best_threshold  f-score  precision  recall  \\\n",
       "0          LogisticRegression          0.2545   0.5055     0.4227  0.6287   \n",
       "1          CatBoostClassifier          0.3609   0.6583     0.6507  0.6660   \n",
       "2      RandomForestClassifier          0.4000   0.6464     0.6674  0.6267   \n",
       "3  GradientBoostingClassifier          0.3300   0.6455     0.6316  0.6601   \n",
       "\n",
       "   roc-auc  true_positive_rate  false_positive_rate  true_negative_rate  \n",
       "0   0.7720              0.6267               0.2195              0.7805  \n",
       "1   0.8778              0.6640               0.0914              0.9086  \n",
       "2   0.8622              0.6208               0.0773              0.9227  \n",
       "3   0.8751              0.6582               0.0984              0.9016  "
      ]
     },
     "execution_count": 15,
     "metadata": {},
     "output_type": "execute_result"
    }
   ],
   "source": [
    "# Создаем DataFrame df_models_metrics из словаря models_metrics\n",
    "df_models_metrics = pd.DataFrame(models_metrics)\n",
    "\n",
    "# Выводим DataFrame с метриками производительности моделей\n",
    "df_models_metrics"
   ]
  },
  {
   "cell_type": "code",
   "execution_count": 16,
   "id": "c261a8d6",
   "metadata": {},
   "outputs": [],
   "source": [
    "# Получаем имя лучшей модели по ROC-AUC\n",
    "best_model_name = df_models_metrics.loc[df_models_metrics['roc-auc'].idxmax(), 'model']\n",
    "\n",
    "# Получаем лучшую модель по имени\n",
    "best_model_by_rocauc = models.get(best_model_name)\n",
    "\n",
    "# Создаем пайплайн для лучшей модели\n",
    "classifier = Pipeline([\n",
    "    ('features', feats),\n",
    "    ('classifier', best_model_by_rocauc)\n",
    "])\n",
    "\n",
    "# Обучение пайплайна на всем тренировочном датасете с использованием лучшей модели.\n",
    "classifier.fit(X_train, y_train)\n",
    "\n",
    "# Прогнозирование вероятностей и вывод информации о наилучшей производительности модели.\n",
    "preds = classifier.predict_proba(X_test)[:, 1]"
   ]
  },
  {
   "cell_type": "code",
   "execution_count": 17,
   "id": "e44e6e44",
   "metadata": {},
   "outputs": [
    {
     "data": {
      "image/png": "[encoded data removed]",
      "text/plain": [
       "<Figure size 800x600 with 1 Axes>"
      ]
     },
     "metadata": {},
     "output_type": "display_data"
    }
   ],
   "source": [
    "# Устанавливаем стиль графика и цветовую палитру\n",
    "sns.set(font_scale=1)\n",
    "sns.set_color_codes(\"muted\")\n",
    "\n",
    "# Создаем новую фигуру с заданным размером\n",
    "plt.figure(figsize=(8, 6))\n",
    "\n",
    "# Вычисляем значения FPR (False Positive Rate) и TPR (True Positive Rate) для построения кривой ROC\n",
    "fpr, tpr, thresholds_ = roc_curve(y_test, preds, pos_label=1)\n",
    "\n",
    "# Задаем ширину линии для графика ROC\n",
    "lw = 2\n",
    "\n",
    "# Рисуем кривую ROC\n",
    "plt.plot(fpr, tpr, lw=lw, label='ROC curve')\n",
    "\n",
    "# Рисуем диагональную линию (рандомная модель)\n",
    "plt.plot([0, 1], [0, 1])\n",
    "\n",
    "# Устанавливаем пределы для осей X и Y\n",
    "plt.xlim([0.0, 1.0])\n",
    "plt.ylim([0.0, 1.05])\n",
    "\n",
    "# Задаем подписи для осей и заголовок графика\n",
    "plt.xlabel('False Positive Rate')\n",
    "plt.ylabel('True Positive Rate')\n",
    "plt.title('ROC curve')\n",
    "\n",
    "# Сохраняем график в файл \"ROC.png\"\n",
    "plt.savefig(\"./image/ROC.png\")\n",
    "\n",
    "# Отображаем график\n",
    "plt.show()\n"
   ]
  },
  {
   "cell_type": "code",
   "execution_count": 18,
   "id": "971f0542",
   "metadata": {},
   "outputs": [],
   "source": [
    "def plot_confusion_matrix(cm, classes,\n",
    "                          normalize=False,\n",
    "                          title='Confusion matrix',\n",
    "                          cmap=plt.cm.Blues):\n",
    "    \"\"\"\n",
    "    Функция выводит и рисует матрицу ошибок.\n",
    "    Нормализация может быть применена, установив `normalize=True`.\n",
    "    \"\"\"\n",
    "    plt.imshow(cm, interpolation='nearest', cmap=cmap)\n",
    "    plt.title(title)\n",
    "    plt.colorbar()\n",
    "    tick_marks = np.arange(len(classes))\n",
    "    plt.xticks(tick_marks, classes, rotation=45)\n",
    "    plt.yticks(tick_marks, classes)\n",
    "\n",
    "    if normalize:\n",
    "        cm = cm.astype('float') / cm.sum(axis=1)[:, np.newaxis]\n",
    "        print(\"Normalized confusion matrix\")\n",
    "    else:\n",
    "        print('Confusion matrix, without normalization')\n",
    "\n",
    "    print(cm)\n",
    "\n",
    "    thresh = cm.max() / 2.\n",
    "    for i, j in itertools.product(range(cm.shape[0]), range(cm.shape[1])):\n",
    "        plt.text(j, i, cm[i, j],\n",
    "                 horizontalalignment=\"center\",\n",
    "                 color=\"white\" if cm[i, j] > thresh else \"black\")\n",
    "\n",
    "    plt.tight_layout()\n",
    "    plt.ylabel('True label')\n",
    "    plt.xlabel('Predicted label')"
   ]
  },
  {
   "cell_type": "code",
   "execution_count": 19,
   "id": "679c8154",
   "metadata": {},
   "outputs": [
    {
     "name": "stdout",
     "output_type": "stream",
     "text": [
      "Confusion matrix, without normalization\n",
      "[[1809  182]\n",
      " [ 171  338]]\n"
     ]
    },
    {
     "data": {
      "image/png": "[encoded data removed]",
      "text/plain": [
       "<Figure size 600x600 with 2 Axes>"
      ]
     },
     "metadata": {},
     "output_type": "display_data"
    }
   ],
   "source": [
    "# Устанавливаем размер шрифта для графика\n",
    "font = {'size' : 15}\n",
    "plt.rc('font', **font)\n",
    "\n",
    "# Вычисляем матрицу ошибок\n",
    "cnf_matrix = confusion_matrix(y_test, preds > df_models_metrics.loc[df_models_metrics['roc-auc'].idxmax(),\\\n",
    "                                                                    'best_threshold'])\n",
    "\n",
    "# Создаем график\n",
    "plt.figure(figsize=(6, 6))\n",
    "# Выводим матрицу ошибок с помощью функции plot_confusion_matrix\n",
    "plot_confusion_matrix(cnf_matrix, classes=['NonChurn', 'Churn'],\n",
    "                      title='Confusion matrix')\n",
    "\n",
    "# Сохраняем график в файл\n",
    "plt.savefig(\"./image/conf_matrix.png\")\n",
    "\n",
    "# Отображаем график\n",
    "plt.show()\n"
   ]
  },
  {
   "cell_type": "markdown",
   "id": "0fd9a31f",
   "metadata": {},
   "source": [
    "### 3. Для отобранной модели (на отложенной выборке) сделать оценку экономической эффективности при тех же вводных, как в вопросе 2 (1 доллар на привлечение, 2 доллара - с каждого правильно классифицированного (True Positive) удержанного). (подсказка) нужно посчитать FP/TP/FN/TN для выбранного оптимального порога вероятности и посчитать выручку и траты."
   ]
  },
  {
   "cell_type": "code",
   "execution_count": 20,
   "id": "dd9cb43b",
   "metadata": {},
   "outputs": [
    {
     "name": "stdout",
     "output_type": "stream",
     "text": [
      "Общие затраты: $520\n",
      "Общая прибыль: $676\n",
      "Чистая прибыль: $156\n"
     ]
    }
   ],
   "source": [
    "# Заданные значения\n",
    "retain_cost = 1  # Затраты на удержание одного пользователя\n",
    "profit_per_tp = 2  # Средняя ожидаемая прибыль с каждого True Positive\n",
    "\n",
    "TN = cnf_matrix[0][0]  # True Negative\n",
    "FN = cnf_matrix[1][0]  # False Negative\n",
    "TP = cnf_matrix[1][1]  # True Positive\n",
    "FP = cnf_matrix[0][1]  # False Positive\n",
    "\n",
    "# Вычисление экономических метрик\n",
    "retain_sum = (FP + TP) * retain_cost  # Общие затраты\n",
    "total_profit = TP * profit_per_tp  # Общая прибыль\n",
    "net_profit = total_profit - retain_sum  # Чистая прибыль\n",
    "\n",
    "# Вывод результатов\n",
    "print(f'Общие затраты: ${retain_sum}')\n",
    "print(f'Общая прибыль: ${total_profit}')\n",
    "print(f'Чистая прибыль: ${net_profit}')\n"
   ]
  },
  {
   "cell_type": "markdown",
   "id": "9e09f8dd",
   "metadata": {},
   "source": [
    "### 4. (опционально) Провести подбор гиперпараметров лучшей модели по итогам 2-3"
   ]
  },
  {
   "cell_type": "code",
   "execution_count": 21,
   "id": "d2864b1c",
   "metadata": {},
   "outputs": [],
   "source": [
    "# Создаем пайплайн для классификации с использованием библиотеки CatBoost\n",
    "classifier = Pipeline([\n",
    "    ('features', feats),  # Трансформаторы для извлечения признаков\n",
    "    ('classifier', CatBoostClassifier(silent=True, random_state=42))  # Классификатор CatBoost\n",
    "])\n",
    "\n",
    "# Обучение пайплайна на всем тренировочном датасете с использованием лучшей модели.\n",
    "classifier.fit(X_train, y_train)\n",
    "\n",
    "# Прогнозирование вероятностей и вывод информации о наилучшей производительности модели.\n",
    "preds = classifier.predict_proba(X_test)[:, 1]"
   ]
  },
  {
   "cell_type": "code",
   "execution_count": 22,
   "id": "9cf8e8cc",
   "metadata": {},
   "outputs": [],
   "source": [
    "# Определяем сетку параметров для поиска по сетке\n",
    "param_grid = {\n",
    "    'classifier__n_estimators': [500, 600, 700, 800, 900],  # Количество деревьев\n",
    "    'classifier__learning_rate': [0.01, 0.02, 0.03, 0.04, 0.05],  # Скорость обучения\n",
    "    'classifier__l2_leaf_reg': [20, 30, 40, 50, 60],  # L2 регуляризация\n",
    "    'classifier__max_depth': [5, 6, 7, 8, 9]  # Максимальная глубина деревьев\n",
    "}\n",
    "\n",
    "# Создаем объект GridSearchCV для поиска по сетке\n",
    "grid_search = GridSearchCV(classifier, param_grid=param_grid, cv=6, scoring='accuracy', refit=False)\n"
   ]
  },
  {
   "cell_type": "code",
   "execution_count": 23,
   "id": "87e54eb8",
   "metadata": {},
   "outputs": [],
   "source": [
    "%%time \n",
    "\n",
    "# Запускаем процесс поиска по сетке с использованием данных обучения\n",
    "grid_search.fit(X_train, y_train)\n",
    "\n",
    "# Выводим лучшие параметры, найденные в результате поиска по сетке\n",
    "print(\"Best Parameters: \", grid_search.best_params_)\n",
    "\n",
    "# Выводим лучшую точность (accuracy) модели, найденную в результате поиска по сетке\n",
    "print(\"Best Accuracy: {:.2f}%\".format(grid_search.best_score_ * 100))\n"
   ]
  },
  {
   "cell_type": "markdown",
   "id": "ff8bfe67",
   "metadata": {},
   "source": [
    "**Model results for the following parameters:**\n",
    "- L2 Regularization: 60\n",
    "- Learning Rate: 0.03\n",
    "- Max Depth: 8\n",
    "- Number of Estimators: 600"
   ]
  },
  {
   "cell_type": "code",
   "execution_count": 24,
   "id": "7f93a67e",
   "metadata": {},
   "outputs": [],
   "source": [
    "# Создаем новый пайплайн для классификации с использованием библиотеки CatBoost\n",
    "new_classifier = Pipeline([\n",
    "    ('features', feats),  # Трансформаторы для извлечения признаков\n",
    "    ('classifier', CatBoostClassifier(l2_leaf_reg=60,\n",
    "                                      learning_rate=0.03,\n",
    "                                      max_depth=8,\n",
    "                                      n_estimators=600,\n",
    "                                      silent=True, \n",
    "                                      random_state=42))  # Классификатор CatBoost с лучшими параметрами\n",
    "])\n",
    "\n",
    "# Обучение пайплайна на всем тренировочном датасете с использованием лучшей модели.\n",
    "new_classifier.fit(X_train, y_train)\n",
    "\n",
    "# Прогнозирование вероятностей и вывод информации о наилучшей производительности модели.\n",
    "new_preds = new_classifier.predict_proba(X_test)[:, 1]"
   ]
  },
  {
   "cell_type": "code",
   "execution_count": 25,
   "id": "62e7d6d6",
   "metadata": {},
   "outputs": [
    {
     "name": "stdout",
     "output_type": "stream",
     "text": [
      "Best Threshold=0.34338644827339443, F-Score=0.660, Precision=0.639, Recall=0.682\n"
     ]
    }
   ],
   "source": [
    "# Вычисление точности (precision), полноты (recall) и пороговых значений для разных порогов\n",
    "precision, recall, thresholds = precision_recall_curve(y_test.values, new_preds)\n",
    "\n",
    "# Вычисление F-меры для каждой комбинации точности и полноты\n",
    "fscore = 2 * (precision * recall) / (precision + recall)\n",
    "\n",
    "# Находим индекс порога, при котором F-мера достигает максимального значения\n",
    "ix = np.argmax(fscore)\n",
    "\n",
    "# Вывод наилучшего порога и соответствующих метрик (F-меры, точности и полноты)\n",
    "print(f'Best Threshold={thresholds[ix]}, F-Score={fscore[ix]:.3f}, Precision={precision[ix]:.3f}, \\\n",
    "Recall={recall[ix]:.3f}')"
   ]
  },
  {
   "cell_type": "markdown",
   "id": "b62af73f",
   "metadata": {},
   "source": [
    "### 5. (опционально) Еще раз провести оценку экономической эффективности"
   ]
  },
  {
   "cell_type": "code",
   "execution_count": 26,
   "id": "e2300875",
   "metadata": {},
   "outputs": [
    {
     "name": "stdout",
     "output_type": "stream",
     "text": [
      "Общие затраты: $542\n",
      "Общая прибыль: $692\n",
      "Чистая прибыль: $150\n"
     ]
    }
   ],
   "source": [
    "cnf_matrix = confusion_matrix(y_test, new_preds>thresholds[ix])\n",
    "\n",
    "# Заданные значения\n",
    "retain_cost = 1  # Затраты на удержание одного пользователя\n",
    "profit_per_tp = 2  # Средняя ожидаемая прибыль с каждого True Positive\n",
    "\n",
    "TN = cnf_matrix[0][0]  # True Negative\n",
    "FN = cnf_matrix[1][0]  # False Negative\n",
    "TP = cnf_matrix[1][1]  # True Positive\n",
    "FP = cnf_matrix[0][1]  # False Positive\n",
    "\n",
    "# Вычисление экономических метрик\n",
    "retain_sum = (FP + TP) * retain_cost  # Общие затраты\n",
    "total_profit = TP * profit_per_tp  # Общая прибыль\n",
    "net_profit = total_profit - retain_sum  # Чистая прибыль\n",
    "\n",
    "# Вывод результатов\n",
    "print(f'Общие затраты: ${retain_sum}')\n",
    "print(f'Общая прибыль: ${total_profit}')\n",
    "print(f'Чистая прибыль: ${net_profit}')"
   ]
  },
  {
   "cell_type": "code",
   "execution_count": 27,
   "id": "ef79d467",
   "metadata": {},
   "outputs": [
    {
     "name": "stdout",
     "output_type": "stream",
     "text": [
      "Confusion matrix, without normalization\n",
      "[[1795  196]\n",
      " [ 163  346]]\n"
     ]
    },
    {
     "data": {
      "image/png": "[encoded data removed]",
      "text/plain": [
       "<Figure size 600x600 with 2 Axes>"
      ]
     },
     "metadata": {},
     "output_type": "display_data"
    }
   ],
   "source": [
    "# Устанавливаем размер шрифта для графика\n",
    "font = {'size' : 15}\n",
    "plt.rc('font', **font)\n",
    "\n",
    "# Вычисляем матрицу ошибок\n",
    "cnf_matrix = confusion_matrix(y_test, new_preds>thresholds[ix])\n",
    "\n",
    "# Создаем график\n",
    "plt.figure(figsize=(6, 6))\n",
    "# Выводим матрицу ошибок с помощью функции plot_confusion_matrix\n",
    "plot_confusion_matrix(cnf_matrix, classes=['NonChurn', 'Churn'],\n",
    "                      title='Confusion matrix')\n",
    "\n",
    "# Сохраняем график в файл\n",
    "plt.savefig(\"./image/conf_matrix_1.png\")\n",
    "\n",
    "# Отображаем график\n",
    "plt.show()"
   ]
  }
 ],
 "metadata": {
  "kernelspec": {
   "display_name": "Python 3 (ipykernel)",
   "language": "python",
   "name": "python3"
  },
  "language_info": {
   "codemirror_mode": {
    "name": "ipython",
    "version": 3
   },
   "file_extension": ".py",
   "mimetype": "text/x-python",
   "name": "python",
   "nbconvert_exporter": "python",
   "pygments_lexer": "ipython3",
   "version": "3.10.2"
  }
 },
 "nbformat": 4,
 "nbformat_minor": 5
}
